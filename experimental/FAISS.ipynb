{
 "cells": [
  {
   "cell_type": "code",
   "execution_count": null,
   "metadata": {},
   "outputs": [],
   "source": [
    "# install necessary libraries and packages\n",
    "%pip install numpy\n",
    "%pip install pandas\n",
    "%pip install matplotlib\n",
    "%pip install seaborn\n",
    "%pip install scikit-learn\n",
    "%pip install openai\n",
    "%pip install wikipedia-api\n",
    "%pip install -qU langchain-openai\n",
    "%pip install langchain-core\n",
    "%pip install langchain_community"
   ]
  },
  {
   "cell_type": "markdown",
   "metadata": {},
   "source": [
    "# Getting OpenAI GPT-3 API Key"
   ]
  },
  {
   "cell_type": "code",
   "execution_count": null,
   "metadata": {},
   "outputs": [],
   "source": [
    "# Get OpenAI GPT-3 API key from environment variable\n",
    "import os\n",
    "import getpass\n",
    "\n",
    "os.environ[\"OPENAI_API_KEY\"] = getpass.getpass(\"Enter your OPEN_AI_API_KEY: \")\n",
    "\n",
    "from langchain_openai import OpenAIEmbeddings\n",
    "\n",
    "embeddings = OpenAIEmbeddings(model=\"text-embedding-3-large\")"
   ]
  },
  {
   "cell_type": "code",
   "execution_count": null,
   "metadata": {},
   "outputs": [],
   "source": [
    "import faiss\n",
    "from langchain_community.vectorstores import FAISS\n",
    "from langchain_community.docstore.in_memory import InMemoryDocstore\n",
    "\n",
    "index = faiss.IndexFlatL2(len(embeddings.embed_query(\"hello world\")))\n",
    "\n",
    "vector_store = FAISS(embedding_function=embeddings, index=index, docstore=InMemoryDocStore(), index_to_docstore_id={})"
   ]
  },
  {
   "cell_type": "markdown",
   "metadata": {},
   "source": [
    "## Utilising Wikipedia-API to get Documents"
   ]
  },
  {
   "cell_type": "code",
   "execution_count": null,
   "metadata": {},
   "outputs": [],
   "source": [
    "# USING WIKIPEDIA DATA\n",
    "import wikipediaapi\n",
    "import numpy as np\n",
    "from langchain_core.documents import Document\n",
    "\n",
    "# Initialising the Wikipedia API\n",
    "wiki_wiki = wikipediaapi.Wikipedia(user_agent='FASISS-test/1.0 (vancence@example.com)', language='en')\n",
    "\n",
    "# function to get Wikipedia articles content data\n",
    "def fetch_wiki_articles(title):\n",
    "    page = wiki_wiki.page(title)\n",
    "    if page.exists():\n",
    "        return page.text\n",
    "    else:\n",
    "        return None"
   ]
  },
  {
   "cell_type": "markdown",
   "metadata": {},
   "source": [
    "### Adding documents to LangChain vector store"
   ]
  },
  {
   "cell_type": "code",
   "execution_count": null,
   "metadata": {},
   "outputs": [],
   "source": [
    "# Step 1: List of Wikipedia articles to fetch\n",
    "article_titles = [\"Python (programming language)\", \"Artificial Intelligence\", \"Machine Learning\", \"Natural Language Processing\", \"Retrieval Augmented Generation\", \"OpenAI\", \"Deep Learning\"]\n",
    "\n",
    "# Step 2: Fetching Wikipedia articles content data\n",
    "documents = []\n",
    "\n",
    "for title in article_titles:\n",
    "    content = fetch_wiki_articles(title)\n",
    "    if content:\n",
    "        documents.append(Document(page_content=content, metadata={\"title\": title, \"source\": \"Wikipedia\"}))\n",
    "\n",
    "# print(documents)\n",
    "\n",
    "# Step 3: Embedding the documents\n",
    "embedded_documents = [embeddings.embed_query(document.page_content) for document in documents]\n",
    "embedding_dim = len(embedded_documents[0])\n",
    "\n",
    "# Step 4: Creating the FAISS index\n",
    "index = fasiss.IndexFlatL2(embedding_dim)\n",
    "\n",
    "# Step 5: Initialising the FAISS vector store\n",
    "vector_store = FAISS(embeddings=embeddings, index=index, docstore=InMemoryDocStore(), index_to_docstore_id={})\n",
    "\n",
    "# Step 6: Generating UUIDs for the documents\n",
    "from uuid import uuid4\n",
    "\n",
    "uuids = [str(uuid4()) for _ in range(len(documents))]\n",
    "\n",
    "# print(uuids)\n",
    "\n",
    "# Step 7: Storing the documents in the vector store\n",
    "vector_store.store_documents(documents=documents, ids=uuids)"
   ]
  }
 ],
 "metadata": {
  "kernelspec": {
   "display_name": "base",
   "language": "python",
   "name": "python3"
  },
  "language_info": {
   "codemirror_mode": {
    "name": "ipython",
    "version": 3
   },
   "file_extension": ".py",
   "mimetype": "text/x-python",
   "name": "python",
   "nbconvert_exporter": "python",
   "pygments_lexer": "ipython3",
   "version": "3.12.4"
  }
 },
 "nbformat": 4,
 "nbformat_minor": 2
}
